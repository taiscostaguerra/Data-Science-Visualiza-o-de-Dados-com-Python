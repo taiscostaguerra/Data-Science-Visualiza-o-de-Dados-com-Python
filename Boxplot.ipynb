{
  "nbformat": 4,
  "nbformat_minor": 0,
  "metadata": {
    "colab": {
      "name": "Boxplot.ipynb",
      "provenance": []
    },
    "kernelspec": {
      "name": "python3",
      "display_name": "Python 3"
    }
  },
  "cells": [
    {
      "cell_type": "code",
      "metadata": {
        "id": "_4UZ1gdw48wl",
        "colab_type": "code",
        "colab": {
          "base_uri": "https://localhost:8080/",
          "height": 281
        },
        "outputId": "267372d9-c967-45f5-84aa-268e4ef29e97"
      },
      "source": [
        "import matplotlib.pyplot as plt\n",
        "import random \n",
        "\n",
        "vetor = []\n",
        "\n",
        "for i in range(10):\n",
        "  numero_aleatorio = random.randint(0,5)\n",
        "  vetor.append(numero_aleatorio)\n",
        "  \n",
        "plt.boxplot(vetor)\n",
        "plt.title(\"Boxplot\")\n",
        "plt.show()"
      ],
      "execution_count": 13,
      "outputs": [
        {
          "output_type": "display_data",
          "data": {
            "image/png": "[encoded data removed]",
            "text/plain": [
              "<Figure size 432x288 with 1 Axes>"
            ]
          },
          "metadata": {
            "tags": [],
            "needs_background": "light"
          }
        }
      ]
    }
  ]
}