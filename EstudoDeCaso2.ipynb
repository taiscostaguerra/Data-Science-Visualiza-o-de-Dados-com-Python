{
  "nbformat": 4,
  "nbformat_minor": 0,
  "metadata": {
    "colab": {
      "name": "EstudoDeCaso2.ipynb",
      "provenance": [],
      "collapsed_sections": []
    },
    "kernelspec": {
      "name": "python3",
      "display_name": "Python 3"
    }
  },
  "cells": [
    {
      "cell_type": "code",
      "metadata": {
        "id": "thBC5at67N39",
        "colab_type": "code",
        "colab": {}
      },
      "source": [
        "entrada = open(\"/content/drive/My Drive/Colab Notebooks/estudo de caso 2/bacteria.fasta\").read()\n",
        "saida = open(\"/content/drive/My Drive/Colab Notebooks/estudo de caso 2/bacteria.html\", \"w\")\n",
        "\n",
        "cont = {}\n",
        "\n",
        "for i in ['A', 'T', 'C', 'G']:\n",
        "  for j in ['A', 'T', 'C', 'G']:\n",
        "    cont[i+j] = 0\n",
        "\n",
        "entrada = entrada.replace(\"\\n\",\"\")\n",
        "\n",
        "for k in range(len(entrada)-1):\n",
        "  cont[entrada[k]+entrada[k+1]] += 1\n",
        "\n",
        "i = 1\n",
        "for k in cont:\n",
        "  transparencia = cont[k]/max(cont.values())\n",
        "  saida.write(\"<div style = 'width:100px; border:1px solid #111; height:100px;float:left; background-color:rgba(0,0,255,\"+str(transparencia)+\"')></div>\")\n",
        "\n",
        "  if i%4 == 0:\n",
        "    saida.write(\"<div style='clear:both'></div>\")\n",
        "saida.close()"
      ],
      "execution_count": 20,
      "outputs": []
    }
  ]
}