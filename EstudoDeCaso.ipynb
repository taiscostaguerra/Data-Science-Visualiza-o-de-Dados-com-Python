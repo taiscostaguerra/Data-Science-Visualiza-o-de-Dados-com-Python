{
  "nbformat": 4,
  "nbformat_minor": 0,
  "metadata": {
    "colab": {
      "name": "EstudoDeCaso.ipynb",
      "provenance": []
    },
    "kernelspec": {
      "name": "python3",
      "display_name": "Python 3"
    }
  },
  "cells": [
    {
      "cell_type": "code",
      "metadata": {
        "id": "oj7ve13Zshy0",
        "colab_type": "code",
        "colab": {}
      },
      "source": [
        "# Crescimento da populaçaõ brasileira 1980-2016\n",
        "# DataSus"
      ],
      "execution_count": null,
      "outputs": []
    },
    {
      "cell_type": "code",
      "metadata": {
        "id": "b48A50ZlyudG",
        "colab_type": "code",
        "colab": {}
      },
      "source": [
        "import matplotlib.pyplot as plt\n"
      ],
      "execution_count": 13,
      "outputs": []
    },
    {
      "cell_type": "code",
      "metadata": {
        "id": "iXtwbANZxXKX",
        "colab_type": "code",
        "colab": {
          "base_uri": "https://localhost:8080/",
          "height": 276
        },
        "outputId": "3d5ba21c-1828-4495-bc96-ae944dbc3664"
      },
      "source": [
        "dados = open(\"/content/drive/My Drive/Colab Notebooks/estudo de caso/populacao_brasileira.csv\").readlines()\n",
        "\n",
        "x = []\n",
        "y = []\n",
        "\n",
        "for i in range(len(dados)):\n",
        "  if i != 0:\n",
        "    linha = dados[i].split(\";\")\n",
        "    x.append(int(linha[0]))\n",
        "    y.append(int(linha[1]))\n",
        "\n",
        "plt.plot(x, y)\n",
        "plt.show()\n",
        "  "
      ],
      "execution_count": 15,
      "outputs": [
        {
          "output_type": "display_data",
          "data": {
            "image/png": "[encoded data removed]",
            "text/plain": [
              "<Figure size 432x288 with 1 Axes>"
            ]
          },
          "metadata": {
            "tags": [],
            "needs_background": "light"
          }
        }
      ]
    }
  ]
}